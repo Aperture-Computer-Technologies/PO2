{
 "cells": [
  {
   "cell_type": "code",
   "execution_count": 1,
   "metadata": {},
   "outputs": [],
   "source": [
    "import pandas as pd\n",
    "import numpy as np\n",
    "import seaborn as sns\n",
    "import json\n",
    "from termcolor import colored\n",
    "from scipy import stats\n",
    "sns.set_theme(style=\"whitegrid\")"
   ]
  },
  {
   "cell_type": "markdown",
   "metadata": {},
   "source": [
    "We have the following hashfunctions:"
   ]
  },
  {
   "cell_type": "code",
   "execution_count": 39,
   "metadata": {},
   "outputs": [
    {
     "name": "stdout",
     "output_type": "stream",
     "text": [
      "available hashes to test: dict_keys(['naive_modulo'])\n"
     ]
    }
   ],
   "source": [
    "with open(\"./hashes.json\", \"r\") as ifile:\n",
    "    res = ifile.readlines()\n",
    "    res = [json.loads(i) for i in res]\n",
    "    results = {}\n",
    "    for i in res:\n",
    "        results[i[\"name\"]] = i\n",
    "print(\"available hashes to test:\", results.keys())"
   ]
  },
  {
   "cell_type": "markdown",
   "metadata": {},
   "source": [
    "# functions you can use"
   ]
  },
  {
   "cell_type": "code",
   "execution_count": 3,
   "metadata": {},
   "outputs": [],
   "source": [
    "def quick_analyze(name):\n",
    "    '''\n",
    "    input: hash name\n",
    "    output: chi squared tests and avg hashing speed\n",
    "    '''\n",
    "    global results\n",
    "    relevant = results[name]\n",
    "    print(f\"average hashing speed in ns, lower is better: {relevant['avg_time']}\")\n",
    "    \n",
    "    print(\"chi squared according to wiki page, we want it to be between [0.95, 1.05]\")\n",
    "    ch2_wiki = [\"chi_wiki_prime_iter\", \"chi_wiki_prime_rand\", \"chi_wiki_two_iter\", \"chi_wiki_two_rand\"]\n",
    "    for i in ch2_wiki:\n",
    "        j = relevant[i]\n",
    "        if j > 0.95 and j < 1.05:\n",
    "            print(i, colored(j, \"green\"))\n",
    "        else:\n",
    "            print(i, colored(j, \"red\"))\n",
    "            \n",
    "    print(\"chi squared according to other source, we want it to be as close to 0 as possible\")        \n",
    "    print(\"I have marked those > 0.2 as bad, idk what a good cutoff value is\")\n",
    "    ch2_other = [\"chi_other_prime_iter\", \"chi_other_prime_rand\", \"chi_other_two_iter\",\"chi_other_two_rand\" ]\n",
    "    for i in ch2_other:\n",
    "        j = relevant[i]\n",
    "        if j < 0.2:\n",
    "            print(i, colored(j, \"green\"))\n",
    "        else:\n",
    "            print(i, colored(j, \"red\"))\n",
    "\n"
   ]
  },
  {
   "cell_type": "code",
   "execution_count": 40,
   "metadata": {},
   "outputs": [
    {
     "data": {
      "text/plain": [
       "<seaborn.axisgrid.FacetGrid at 0x7f5968c6d820>"
      ]
     },
     "execution_count": 40,
     "metadata": {},
     "output_type": "execute_result"
    },
    {
     "data": {
      "image/png": "[encoded data removed]",
      "text/plain": [
       "<Figure size 1152x288 with 4 Axes>"
      ]
     },
     "metadata": {},
     "output_type": "display_data"
    }
   ],
   "source": [
    "\n",
    "quick = results[\"naive_modulo\"]\n",
    "\n",
    "col_list = [\"bithistogram_prime_rand\",\n",
    "\"bithistogram_prime_iter\",\n",
    "\"bithistogram_two_rand\",\n",
    "\"bithistogram_two_iter\"]\n",
    "                \n",
    "bitgram = pd.DataFrame(columns=[\"bits\", \"total\",\"test\"])\n",
    "\n",
    "for i in col_list:\n",
    "    temp = np.array(quick[i])/1000\n",
    "    temp = pd.DataFrame([range(0,32), temp, [i for j in range(0,32)]])\n",
    "    temp = temp.T\n",
    "    temp.columns = bitgram.columns    \n",
    "    bitgram = bitgram.append(temp)\n",
    "\n",
    "\n",
    "\n",
    "g = sns.FacetGrid(bitgram, col=\"test\", height=4, aspect=1)\n",
    "g.map(sns.barplot, \"bits\", \"total\", order=range(0,16))\n"
   ]
  },
  {
   "cell_type": "code",
   "execution_count": 12,
   "metadata": {},
   "outputs": [
    {
     "name": "stdout",
     "output_type": "stream",
     "text": [
      "     total_bill   tip     sex smoker   day    time  size\n",
      "0         16.99  1.01  Female     No   Sun  Dinner     2\n",
      "1         10.34  1.66    Male     No   Sun  Dinner     3\n",
      "2         21.01  3.50    Male     No   Sun  Dinner     3\n",
      "3         23.68  3.31    Male     No   Sun  Dinner     2\n",
      "4         24.59  3.61  Female     No   Sun  Dinner     4\n",
      "..          ...   ...     ...    ...   ...     ...   ...\n",
      "239       29.03  5.92    Male     No   Sat  Dinner     3\n",
      "240       27.18  2.00  Female    Yes   Sat  Dinner     2\n",
      "241       22.67  2.00    Male    Yes   Sat  Dinner     2\n",
      "242       17.82  1.75    Male     No   Sat  Dinner     2\n",
      "243       18.78  3.00  Female     No  Thur  Dinner     2\n",
      "\n",
      "[244 rows x 7 columns]\n"
     ]
    }
   ],
   "source": [
    "# print(results[\"naive_modulo\"].keys())\n",
    "\n",
    "tips = sns.load_dataset(\"tips\")\n",
    "print(tips)"
   ]
  },
  {
   "cell_type": "code",
   "execution_count": null,
   "metadata": {},
   "outputs": [],
   "source": [
    "\n"
   ]
  },
  {
   "cell_type": "markdown",
   "metadata": {},
   "source": []
  },
  {
   "cell_type": "markdown",
   "metadata": {},
   "source": []
  },
  {
   "cell_type": "code",
   "execution_count": null,
   "metadata": {},
   "outputs": [],
   "source": []
  }
 ],
 "metadata": {
  "kernelspec": {
   "display_name": "Python 3",
   "language": "python",
   "name": "python3"
  },
  "language_info": {
   "codemirror_mode": {
    "name": "ipython",
    "version": 3
   },
   "file_extension": ".py",
   "mimetype": "text/x-python",
   "name": "python",
   "nbconvert_exporter": "python",
   "pygments_lexer": "ipython3",
   "version": "3.9.1"
  }
 },
 "nbformat": 4,
 "nbformat_minor": 4
}
