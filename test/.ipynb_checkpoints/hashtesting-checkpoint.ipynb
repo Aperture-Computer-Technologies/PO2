{
 "cells": [
  {
   "cell_type": "code",
   "execution_count": 1,
   "metadata": {},
   "outputs": [],
   "source": [
    "import pandas as pd\n",
    "import numpy as np\n",
    "import seaborn as sns\n",
    "import json\n",
    "from termcolor import colored\n",
    "from scipy import stats\n",
    "from matplotlib import pyplot as plt\n",
    "import matplotlib.style as style\n",
    "%matplotlib widget\n",
    "sns.set_theme(style=\"darkgrid\")\n",
    "style.use('seaborn-colorblind')"
   ]
  },
  {
   "cell_type": "markdown",
   "metadata": {},
   "source": [
    "We have the following hashfunctions:"
   ]
  },
  {
   "cell_type": "code",
   "execution_count": 2,
   "metadata": {},
   "outputs": [
    {
     "name": "stdout",
     "output_type": "stream",
     "text": [
      "available hashes to test: dict_keys(['naive_modulo', 'naive_bitmask'])\n"
     ]
    }
   ],
   "source": [
    "with open(\"./hashes.json\", \"r\") as ifile:\n",
    "    res = ifile.readlines()\n",
    "    res = [json.loads(i) for i in res]\n",
    "    results = {}\n",
    "    for i in res:\n",
    "        results[i[\"name\"]] = i\n",
    "print(\"available hashes to test:\", results.keys())"
   ]
  },
  {
   "cell_type": "markdown",
   "metadata": {},
   "source": [
    "# functions you can use"
   ]
  },
  {
   "cell_type": "code",
   "execution_count": 3,
   "metadata": {
    "jupyter": {
     "source_hidden": true
    }
   },
   "outputs": [],
   "source": [
    "def quick_analyze(name):\n",
    "    '''\n",
    "    input: hash name\n",
    "    output: chi squared tests and avg hashing speed\n",
    "    '''\n",
    "    global results\n",
    "    relevant = results[name]\n",
    "    print(f\"average hashing speed in ns, lower is better: {relevant['avg_time']}\")\n",
    "    \n",
    "    print(\"chi squared according to wiki page, we want it to be between [0.95, 1.05]\")\n",
    "    ch2_wiki = [\"chi_wiki_prime_iter\", \"chi_wiki_prime_rand\", \"chi_wiki_two_iter\", \"chi_wiki_two_rand\"]\n",
    "    for i in ch2_wiki:\n",
    "        j = relevant[i]\n",
    "        if j > 0.95 and j < 1.05:\n",
    "            print(i, colored(j, \"green\"))\n",
    "        else:\n",
    "            print(i, colored(j, \"red\"))\n",
    "            \n",
    "    print(\"chi squared according to other source, we want it to be as close to 0 as possible\")        \n",
    "    print(\"I have marked those > 0.2 as bad, idk what a good cutoff value is\")\n",
    "    ch2_other = [\"chi_other_prime_iter\", \"chi_other_prime_rand\", \"chi_other_two_iter\",\"chi_other_two_rand\" ]\n",
    "    for i in ch2_other:\n",
    "        j = relevant[i]\n",
    "        if j < 0.2:\n",
    "            print(i, colored(j, \"green\"))\n",
    "        else:\n",
    "            print(i, colored(j, \"red\"))\n",
    "\n",
    "def plots(name):\n",
    "    global results\n",
    "    res = results[name]\n",
    "    col_list = [\n",
    "        \"bithistogram_prime_rand\",\n",
    "    \"bithistogram_prime_iter\",\n",
    "    \"bithistogram_two_rand\",\n",
    "    \"bithistogram_two_iter\"]\n",
    "\n",
    "    bitgram = pd.DataFrame(columns=[\"bits\", \"total\",\"test\"])\n",
    "    for i in col_list:\n",
    "        temp = np.array(res[i])\n",
    "        temp = pd.DataFrame([range(0,32), temp/20000, [i for j in range(0,32)]])\n",
    "        temp = temp.T\n",
    "        temp.columns = bitgram.columns    \n",
    "        bitgram = bitgram.append(temp)\n",
    "    print(\"We want the occurence of 1 for each to be around 0.5. I should technically do a chi2 test on it. we;ll figure it out somehow\")\n",
    "    g = sns.FacetGrid(bitgram, col=\"test\", height=3.5, aspect=0.9)\n",
    "    g.map(sns.barplot, \"bits\", \"total\", order=range(0,20), label=\"test\")\n",
    "    plt.show()\n",
    "    # The below code needs some stats knowledge to validate\n",
    "#     g.set(title=\"P(bit=1)\") \n",
    "#     print(\"DON't trust the results below\")\n",
    "#     bitgram[\"total\"] = np.array([stats.binom_test(i*20000, 20000, 0.5) for i in bitgram[\"total\"]])\n",
    "#     h = sns.FacetGrid(bitgram, col=\"test\", height=4, aspect=1)\n",
    "#     h.map(sns.barplot, \"bits\", \"total\", order=range(0,20))\n",
    "#     h.set(title=\"P(this is random)\")\n",
    "    print(\"This is just plots of how much each bin would be filled. you shouldn't be able to spot a pattern\")\n",
    "    cols = [\n",
    "        \"raw_prime_rand\",\n",
    "        \"raw_prime_iter\",\n",
    "        \"raw_two_rand\",\n",
    "        \"raw_two_iter\"\n",
    "    ]\n",
    "#     this is slower code, but produces better plots\n",
    "#     raw = pd.DataFrame(columns=[\"bucket\", \"total\",\"test\"])\n",
    "#     for i in cols:\n",
    "#         temp = np.array(res[i])\n",
    "#         temp = pd.DataFrame([range(len(temp)), temp, [i for j in range(len(temp))]])\n",
    "#         temp = temp.T\n",
    "#         temp.columns = raw.columns \n",
    "#         raw = raw.append(temp)\n",
    "#     i = sns.FacetGrid(raw, col=\"test\", height=4, aspect=1)\n",
    "#     i.map(sns.scatterplot, \"bucket\", \"total\", s=10)\n",
    "    \n",
    "    raw = pd.DataFrame( [\n",
    "        res[\"raw_prime_rand\"],\n",
    "        res[\"raw_prime_iter\"],\n",
    "        res[\"raw_two_rand\"],\n",
    "        res[\"raw_two_iter\"]\n",
    "    ])\n",
    "    raw = raw.T\n",
    "    raw.columns=cols\n",
    "    f, axs = plt.subplots(2, 2, figsize=(10 ,5), gridspec_kw=dict(width_ratios=[1,1]))\n",
    "    sns.scatterplot(data=raw, x=np.arange(1024),  y=\"raw_prime_rand\", ax=axs[0,0], s=10, label=\"prime random\")\n",
    "    sns.scatterplot(data=raw, x=np.arange(1024),  y=\"raw_prime_iter\", ax=axs[0,1], s=10, label=\"prime iterative\")\n",
    "    sns.scatterplot(data=raw, x=np.arange(1024),  y=\"raw_two_rand\", ax=axs[1,0], s=10, label=\"2^n random\")\n",
    "    sns.scatterplot(data=raw, x=np.arange(1024),  y=\"raw_two_iter\", ax=axs[1,1], s=10, label=\"2^n iterative\")\n",
    "    f.tight_layout()\n",
    "    plt.show()\n",
    "    \n",
    "    g, axs = plt.subplots(1, 2, figsize=(10,5), gridspec_kw=dict(width_ratios=[1,1]))\n",
    "    sns.histplot(data=res,x=\"skiena_prime\", ax=axs[0],  label=\"prime\")\n",
    "    sns.histplot(data=res, x=\"skiena_two\", ax=axs[1], label=\"2^n\")\n",
    "    g.tight_layout()\n",
    "    plt.show()"
   ]
  },
  {
   "cell_type": "code",
   "execution_count": 4,
   "metadata": {},
   "outputs": [
    {
     "name": "stdout",
     "output_type": "stream",
     "text": [
      "average hashing speed in ns, lower is better: 8.92144\n",
      "chi squared according to wiki page, we want it to be between [0.95, 1.05]\n",
      "chi_wiki_prime_iter \u001b[32m0.9545884578997161\u001b[0m\n",
      "chi_wiki_prime_rand \u001b[32m1.001112762985989\u001b[0m\n",
      "chi_wiki_two_iter \u001b[32m0.9545878279398056\u001b[0m\n",
      "chi_wiki_two_rand \u001b[32m0.9985617259288854\u001b[0m\n",
      "chi squared according to other source, we want it to be as close to 0 as possible\n",
      "I have marked those > 0.2 as bad, idk what a good cutoff value is\n",
      "chi_other_prime_iter \u001b[32m0.0\u001b[0m\n",
      "chi_other_prime_rand \u001b[31m0.4934797179166714\u001b[0m\n",
      "chi_other_two_iter \u001b[32m0.0\u001b[0m\n",
      "chi_other_two_rand \u001b[31m0.40499206298200113\u001b[0m\n",
      "We want the occurence of 1 for each to be around 0.5. I should technically do a chi2 test on it. we;ll figure it out somehow\n"
     ]
    },
    {
     "data": {
      "application/vnd.jupyter.widget-view+json": {
       "model_id": "beb91956e1324161b0f3db825364e76f",
       "version_major": 2,
       "version_minor": 0
      },
      "text/plain": [
       "Canvas(toolbar=Toolbar(toolitems=[('Home', 'Reset original view', 'home', 'home'), ('Back', 'Back to previous …"
      ]
     },
     "metadata": {},
     "output_type": "display_data"
    },
    {
     "name": "stdout",
     "output_type": "stream",
     "text": [
      "This is just plots of how much each bin would be filled. you shouldn't be able to spot a pattern\n"
     ]
    },
    {
     "data": {
      "application/vnd.jupyter.widget-view+json": {
       "model_id": "9d24ed52233e4bc2a3678addd8c05f30",
       "version_major": 2,
       "version_minor": 0
      },
      "text/plain": [
       "Canvas(toolbar=Toolbar(toolitems=[('Home', 'Reset original view', 'home', 'home'), ('Back', 'Back to previous …"
      ]
     },
     "metadata": {},
     "output_type": "display_data"
    },
    {
     "data": {
      "application/vnd.jupyter.widget-view+json": {
       "model_id": "bf8734f6a3cf4bbd941ab22e244cc932",
       "version_major": 2,
       "version_minor": 0
      },
      "text/plain": [
       "Canvas(toolbar=Toolbar(toolitems=[('Home', 'Reset original view', 'home', 'home'), ('Back', 'Back to previous …"
      ]
     },
     "metadata": {},
     "output_type": "display_data"
    }
   ],
   "source": [
    "quick_analyze(\"naive_modulo\")\n",
    "plots(\"naive_modulo\")"
   ]
  },
  {
   "cell_type": "code",
   "execution_count": null,
   "metadata": {},
   "outputs": [],
   "source": [
    "\n"
   ]
  },
  {
   "cell_type": "code",
   "execution_count": 5,
   "metadata": {},
   "outputs": [
    {
     "name": "stdout",
     "output_type": "stream",
     "text": [
      "average hashing speed in ns, lower is better: 6.82064\n",
      "chi squared according to wiki page, we want it to be between [0.95, 1.05]\n",
      "chi_wiki_prime_iter \u001b[31m917.3595080416272\u001b[0m\n",
      "chi_wiki_prime_rand \u001b[32m1.027823579763031\u001b[0m\n",
      "chi_wiki_two_iter \u001b[31m930.9958716207218\u001b[0m\n",
      "chi_wiki_two_rand \u001b[32m0.9995560882496559\u001b[0m\n",
      "chi squared according to other source, we want it to be as close to 0 as possible\n",
      "I have marked those > 0.2 as bad, idk what a good cutoff value is\n",
      "chi_other_prime_iter \u001b[31m1.0\u001b[0m\n",
      "chi_other_prime_rand \u001b[31m1.0\u001b[0m\n",
      "chi_other_two_iter \u001b[31m1.0\u001b[0m\n",
      "chi_other_two_rand \u001b[32m0.18845772684254813\u001b[0m\n",
      "We want the occurence of 1 for each to be around 0.5. I should technically do a chi2 test on it. we;ll figure it out somehow\n"
     ]
    },
    {
     "data": {
      "application/vnd.jupyter.widget-view+json": {
       "model_id": "ac1e07148d9944df9b1d8c2241d23785",
       "version_major": 2,
       "version_minor": 0
      },
      "text/plain": [
       "Canvas(toolbar=Toolbar(toolitems=[('Home', 'Reset original view', 'home', 'home'), ('Back', 'Back to previous …"
      ]
     },
     "metadata": {},
     "output_type": "display_data"
    },
    {
     "name": "stdout",
     "output_type": "stream",
     "text": [
      "This is just plots of how much each bin would be filled. you shouldn't be able to spot a pattern\n"
     ]
    },
    {
     "data": {
      "application/vnd.jupyter.widget-view+json": {
       "model_id": "5f80b678d64246948684367b809ef043",
       "version_major": 2,
       "version_minor": 0
      },
      "text/plain": [
       "Canvas(toolbar=Toolbar(toolitems=[('Home', 'Reset original view', 'home', 'home'), ('Back', 'Back to previous …"
      ]
     },
     "metadata": {},
     "output_type": "display_data"
    },
    {
     "data": {
      "application/vnd.jupyter.widget-view+json": {
       "model_id": "238bc11b68eb4121b87dfb9a68eb2ee9",
       "version_major": 2,
       "version_minor": 0
      },
      "text/plain": [
       "Canvas(toolbar=Toolbar(toolitems=[('Home', 'Reset original view', 'home', 'home'), ('Back', 'Back to previous …"
      ]
     },
     "metadata": {},
     "output_type": "display_data"
    }
   ],
   "source": [
    "quick_analyze(\"naive_bitmask\")\n",
    "plots(\"naive_bitmask\")"
   ]
  },
  {
   "cell_type": "markdown",
   "metadata": {},
   "source": [
    "\n"
   ]
  },
  {
   "cell_type": "markdown",
   "metadata": {},
   "source": []
  },
  {
   "cell_type": "code",
   "execution_count": null,
   "metadata": {},
   "outputs": [],
   "source": []
  }
 ],
 "metadata": {
  "kernelspec": {
   "display_name": "Python 3",
   "language": "python",
   "name": "python3"
  },
  "language_info": {
   "codemirror_mode": {
    "name": "ipython",
    "version": 3
   },
   "file_extension": ".py",
   "mimetype": "text/x-python",
   "name": "python",
   "nbconvert_exporter": "python",
   "pygments_lexer": "ipython3",
   "version": "3.9.1"
  }
 },
 "nbformat": 4,
 "nbformat_minor": 4
}
